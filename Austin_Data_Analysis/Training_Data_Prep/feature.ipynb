{
 "cells": [
  {
   "cell_type": "code",
   "execution_count": 1,
   "id": "6526943b",
   "metadata": {},
   "outputs": [
    {
     "data": {
      "text/plain": [
       "{'divide': 'warn', 'over': 'warn', 'under': 'ignore', 'invalid': 'warn'}"
      ]
     },
     "execution_count": 1,
     "metadata": {},
     "output_type": "execute_result"
    }
   ],
   "source": [
    "import numpy as np\n",
    "import pandas as pd\n",
    "import rasterio\n",
    "from PIL import Image\n",
    "np.seterr(divide='ignore', invalid='ignore')"
   ]
  },
  {
   "cell_type": "code",
   "execution_count": 2,
   "id": "c678d3bc",
   "metadata": {},
   "outputs": [
    {
     "name": "stderr",
     "output_type": "stream",
     "text": [
      "/Users/ziyanliu/opt/anaconda3/lib/python3.9/site-packages/PIL/Image.py:2918: DecompressionBombWarning: Image size (133302400 pixels) exceeds limit of 89478485 pixels, could be decompression bomb DOS attack.\n",
      "  warnings.warn(\n"
     ]
    }
   ],
   "source": [
    "im = Image.open('../m_3009743_sw_14_060_20201018.tif')\n",
    "im = np.array(im)"
   ]
  },
  {
   "cell_type": "code",
   "execution_count": 3,
   "id": "6e4608e9",
   "metadata": {},
   "outputs": [
    {
     "data": {
      "text/plain": [
       "(12320, 10820, 4)"
      ]
     },
     "execution_count": 3,
     "metadata": {},
     "output_type": "execute_result"
    }
   ],
   "source": [
    "im.shape"
   ]
  },
  {
   "cell_type": "code",
   "execution_count": 4,
   "id": "9ef3b0cc",
   "metadata": {},
   "outputs": [
    {
     "name": "stderr",
     "output_type": "stream",
     "text": [
      "Warning 1: TIFFReadDirectory:Sum of Photometric type-related color channels and ExtraSamples doesn't match SamplesPerPixel. Defining non-color channels as ExtraSamples.\n"
     ]
    }
   ],
   "source": [
    "raster = rasterio.open('../m_3009743_sw_14_060_20201018.tif')\n",
    "array = raster.read()"
   ]
  },
  {
   "cell_type": "code",
   "execution_count": 5,
   "id": "71a79c2c",
   "metadata": {},
   "outputs": [
    {
     "data": {
      "text/plain": [
       "(4, 12320, 10820)"
      ]
     },
     "execution_count": 5,
     "metadata": {},
     "output_type": "execute_result"
    }
   ],
   "source": [
    "array.shape"
   ]
  },
  {
   "cell_type": "code",
   "execution_count": 6,
   "id": "577bac13",
   "metadata": {},
   "outputs": [],
   "source": [
    "trial = im[42:50, 55:60, :]"
   ]
  },
  {
   "cell_type": "code",
   "execution_count": 7,
   "id": "f2f1425f",
   "metadata": {},
   "outputs": [],
   "source": [
    "# 5 x 5 window\n",
    "def get_feature_arr(im):\n",
    "    M, N, F = im.shape\n",
    "    feature = np.zeros((M, N, (F + 1) * 5)) # (R, G, B, NIR, NDVI) * (1, min, max, mean, std)\n",
    "    for i in range(M):\n",
    "        for j in range(N):\n",
    "            for k in range(4):\n",
    "                feature[i, j, k] = im[i, j, k] # R, G, B, NIR\n",
    "            if im[i, j, 3] + im[i, j, 0] == 0:\n",
    "                ndvi = 0\n",
    "            else:\n",
    "                ndvi = (im[i, j, 3] - im[i, j, 0]) / (im[i, j, 3] + im[i, j, 0])\n",
    "            feature[i, j, 4] = ndvi # NDVI\n",
    "    padded = np.pad(feature, ((2, 2), (2, 2), (0, 0)), mode='edge')\n",
    "   \n",
    "    for r in range (M):\n",
    "        for c in range(N):\n",
    "            for w in range(5):\n",
    "                window = padded[r:r+5, c:c+5, w]\n",
    "                f_min = np.amin(window)\n",
    "                f_max = np.amax(window)\n",
    "                f_mean = np.mean(window)\n",
    "                f_std = np.std(window)\n",
    "                feature[r, c, w+5] = f_min\n",
    "                feature[r, c, w+10] = f_max\n",
    "                feature[r, c, w+15] = f_mean\n",
    "                feature[r, c, w+20] = f_std\n",
    "    return feature\n",
    "            \n",
    "        "
   ]
  },
  {
   "cell_type": "code",
   "execution_count": 8,
   "id": "84ed7698",
   "metadata": {},
   "outputs": [
    {
     "name": "stderr",
     "output_type": "stream",
     "text": [
      "/var/folders/g5/z71zl0dx3vnbsmfqns6fm44w0000gn/T/ipykernel_36419/3131320919.py:9: RuntimeWarning: overflow encountered in ubyte_scalars\n",
      "  if im[i, j, 3] + im[i, j, 0] == 0:\n",
      "/var/folders/g5/z71zl0dx3vnbsmfqns6fm44w0000gn/T/ipykernel_36419/3131320919.py:12: RuntimeWarning: overflow encountered in ubyte_scalars\n",
      "  ndvi = (im[i, j, 3] - im[i, j, 0]) / (im[i, j, 3] + im[i, j, 0])\n"
     ]
    }
   ],
   "source": [
    "feature = get_feature_arr(trial)\n"
   ]
  },
  {
   "cell_type": "code",
   "execution_count": 9,
   "id": "a91f8563",
   "metadata": {},
   "outputs": [
    {
     "name": "stdout",
     "output_type": "stream",
     "text": [
      "[1.35000000e+02 1.18000000e+02 1.15000000e+02 1.19000000e+02\n",
      " 9.44881916e-01 1.16000000e+02 1.05000000e+02 9.80000000e+01\n",
      " 7.70000000e+01 4.29184549e-03 2.05000000e+02 1.99000000e+02\n",
      " 1.78000000e+02 2.00000000e+02 4.16666679e+01 1.56200000e+02\n",
      " 1.50920000e+02 1.33560000e+02 1.48760000e+02 3.23625628e+00\n",
      " 2.79685538e+01 2.79741595e+01 2.22028467e+01 3.52536863e+01\n",
      " 8.12135314e+00]\n",
      "[135 118 115 119]\n"
     ]
    }
   ],
   "source": [
    "print(feature[2, 2,])\n",
    "print(trial[2,2,])"
   ]
  },
  {
   "cell_type": "code",
   "execution_count": null,
   "id": "bb2b98e9",
   "metadata": {},
   "outputs": [],
   "source": [
    "feature_sw = get_feature_arr(im)"
   ]
  },
  {
   "cell_type": "code",
   "execution_count": null,
   "id": "973e595f",
   "metadata": {},
   "outputs": [],
   "source": [
    "a, b, c = feature_sw.shape\n",
    "f_2d = feature_sw.reshape(a*b, c)"
   ]
  },
  {
   "cell_type": "code",
   "execution_count": null,
   "id": "3ba2c49a",
   "metadata": {},
   "outputs": [],
   "source": [
    "np.savetxt(\"austin_sw.csv\", f_2d, delimiter=\",\")"
   ]
  }
 ],
 "metadata": {
  "kernelspec": {
   "display_name": "Python 3 (ipykernel)",
   "language": "python",
   "name": "python3"
  },
  "language_info": {
   "codemirror_mode": {
    "name": "ipython",
    "version": 3
   },
   "file_extension": ".py",
   "mimetype": "text/x-python",
   "name": "python",
   "nbconvert_exporter": "python",
   "pygments_lexer": "ipython3",
   "version": "3.9.7"
  }
 },
 "nbformat": 4,
 "nbformat_minor": 5
}
