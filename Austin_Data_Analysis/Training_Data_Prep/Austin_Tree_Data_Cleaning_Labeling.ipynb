{
 "cells": [
  {
   "cell_type": "markdown",
   "id": "fd3e13c6",
   "metadata": {},
   "source": [
    "## Data Cleaning\n",
    "\n",
    "### 1. Drop null and duplicates"
   ]
  },
  {
   "cell_type": "code",
   "execution_count": 18,
   "id": "f449bb7c",
   "metadata": {},
   "outputs": [],
   "source": [
    "import pandas as pd\n",
    "import geopandas as gpd\n",
    "import matplotlib.pyplot as plt\n",
    "import seaborn as sns\n",
    "from shapely import wkt"
   ]
  },
  {
   "cell_type": "code",
   "execution_count": 2,
   "id": "eb6b3c2f",
   "metadata": {},
   "outputs": [],
   "source": [
    "tree_species = pd.read_csv('Tree_Inventory-Species.csv')"
   ]
  },
  {
   "cell_type": "code",
   "execution_count": 3,
   "id": "61290a0c",
   "metadata": {},
   "outputs": [
    {
     "data": {
      "text/plain": [
       "GEOMETRY                     0\n",
       "SPECIES                     64\n",
       "DIAMETER                     0\n",
       "LATITUDE                     0\n",
       "LONGTITUDE                   0\n",
       "New Georeferenced Column     0\n",
       "dtype: int64"
      ]
     },
     "execution_count": 3,
     "metadata": {},
     "output_type": "execute_result"
    }
   ],
   "source": [
    "tree_species.isnull().sum()"
   ]
  },
  {
   "cell_type": "code",
   "execution_count": 4,
   "id": "97769dd0",
   "metadata": {},
   "outputs": [],
   "source": [
    "tree_species.dropna(inplace=True)\n",
    "tree_species.drop_duplicates(keep='last', inplace=True)"
   ]
  },
  {
   "cell_type": "markdown",
   "id": "f8a34f41",
   "metadata": {},
   "source": [
    "### 2. Combine species with same name"
   ]
  },
  {
   "cell_type": "code",
   "execution_count": 5,
   "id": "66b028ed",
   "metadata": {},
   "outputs": [],
   "source": [
    "to_remove = ['Cedar Elm', 'Oak, Live (Southern)', 'Ashe Juniper', 'Bur Oak', 'Crape Myrtle (including hybrids)', 'Hackberry, Common']\n",
    "combine_to = ['Elm, Cedar', 'Southern Live Oak', 'Juniper, Ashe', 'Oak, Bur', 'Crapemyrtle', 'Hackberry']\n",
    "\n",
    "for i in range(len(to_remove)):\n",
    "    tree_species.loc[tree_species['SPECIES'] == to_remove[i], 'SPECIES'] = combine_to[i]"
   ]
  },
  {
   "cell_type": "code",
   "execution_count": 6,
   "id": "249ab81e",
   "metadata": {},
   "outputs": [
    {
     "data": {
      "text/plain": [
       "Southern Live Oak                       9753\n",
       "Elm, Cedar                              8787\n",
       "Pecan                                   4243\n",
       "Crapemyrtle                             3762\n",
       "Juniper, Ashe                           2526\n",
       "Oak, Texas Live (Escarpment)            2079\n",
       "Hackberry                               1909\n",
       "Oak, Bur                                1489\n",
       "Sugarberry                              1152\n",
       "Stump                                    981\n",
       "Red Oak                                  868\n",
       "Cedar, Eastern Red                       790\n",
       "Oak, Chinquapin                          661\n",
       "Oak, Texas Red                           651\n",
       "Bean, Mescal (Texas Mountain Laurel)     623\n",
       "Elm, American                            621\n",
       "Vacant Planting Site - Small             610\n",
       "Escarpment Live Oak                      591\n",
       "Shumard Oak                              551\n",
       "Cypress, Bald                            524\n",
       "Name: SPECIES, dtype: int64"
      ]
     },
     "execution_count": 6,
     "metadata": {},
     "output_type": "execute_result"
    }
   ],
   "source": [
    "tree_species['SPECIES'].value_counts()[:20]"
   ]
  },
  {
   "cell_type": "code",
   "execution_count": 7,
   "id": "4603ceaf",
   "metadata": {},
   "outputs": [],
   "source": [
    "# There are species labeled as Unknown, we remove them\n",
    "#(tree_species['SPECIES'] == 'Unknown').sum()\n",
    "\n",
    "tree_species.drop(tree_species.loc[tree_species['SPECIES']=='Unknown'].index, inplace=True)"
   ]
  },
  {
   "cell_type": "code",
   "execution_count": 8,
   "id": "6d5ab0ca",
   "metadata": {},
   "outputs": [
    {
     "name": "stderr",
     "output_type": "stream",
     "text": [
      "<ipython-input-8-f86b3b35e7d9>:7: UserWarning: Column names longer than 10 characters will be truncated when saved to ESRI Shapefile.\n",
      "  tree_species_geo.to_file('Austin_Tree_Species_Clean.shp')\n"
     ]
    }
   ],
   "source": [
    "# Save cleaned tree species data as a shape file\n",
    "\n",
    "tree_species_geo = gpd.GeoDataFrame(tree_species)\n",
    "tree_species_geo.set_geometry(\n",
    "    gpd.points_from_xy(tree_species_geo['LONGTITUDE'], tree_species_geo['LATITUDE']),\n",
    "    inplace=True, crs='EPSG:4326')\n",
    "tree_species_geo.to_file('Austin_Tree_Species_Clean.shp')  "
   ]
  },
  {
   "cell_type": "code",
   "execution_count": 9,
   "id": "45e5c29f",
   "metadata": {},
   "outputs": [
    {
     "data": {
      "image/png": "[encoded data removed]",
      "text/plain": [
       "<Figure size 1080x360 with 1 Axes>"
      ]
     },
     "metadata": {
      "needs_background": "light"
     },
     "output_type": "display_data"
    }
   ],
   "source": [
    "plt.figure(figsize=(15,5))\n",
    "ax = sns.countplot(x=tree_species['SPECIES'], order=tree_species['SPECIES'].value_counts().iloc[:10].index)\n",
    "ax.tick_params(axis='x', rotation=30)\n",
    "for p in ax.patches:\n",
    "    ax.annotate('{:}'.format(p.get_height()), (p.get_x()+0.25, p.get_height()+0.01))\n",
    "plt.show()"
   ]
  },
  {
   "cell_type": "markdown",
   "id": "2e5d3bf9",
   "metadata": {},
   "source": [
    "### 3. Associate Species info with polygons\n",
    "\n",
    "For our final training data, we only keep the species that are located within the polygons."
   ]
  },
  {
   "cell_type": "code",
   "execution_count": 10,
   "id": "3506eb98",
   "metadata": {},
   "outputs": [],
   "source": [
    "polygons = gpd.read_file('austin_region2_tree_segments.shp')\n",
    "species_points = gpd.read_file('Austin_Tree_Species_Clean.shp')"
   ]
  },
  {
   "cell_type": "code",
   "execution_count": 11,
   "id": "db46542f",
   "metadata": {},
   "outputs": [
    {
     "name": "stdout",
     "output_type": "stream",
     "text": [
      "polygons crs:  epsg:4326\n",
      "points crs:  epsg:4326\n"
     ]
    }
   ],
   "source": [
    "# CRS reprojection\n",
    "polygons = polygons.to_crs(epsg=4326)\n",
    "print('polygons crs: ', polygons.crs)\n",
    "print('points crs: ', species_points.crs)"
   ]
  },
  {
   "cell_type": "code",
   "execution_count": 14,
   "id": "5c469e1f",
   "metadata": {},
   "outputs": [
    {
     "name": "stderr",
     "output_type": "stream",
     "text": [
      "<ipython-input-14-b2a946a994a9>:4: UserWarning: Column names longer than 10 characters will be truncated when saved to ESRI Shapefile.\n",
      "  polygons_species.to_file('polygons_species.shp')\n"
     ]
    }
   ],
   "source": [
    "# Join the polygons and the points\n",
    "\n",
    "polygons_species = gpd.sjoin(polygons, species_points)\n",
    "# polygons_species.to_file('polygons_species.shp')"
   ]
  },
  {
   "cell_type": "code",
   "execution_count": 17,
   "id": "38ebda7b",
   "metadata": {},
   "outputs": [],
   "source": [
    "polygons_species.drop(columns=['index_right','GEOMETRY','DIAMETER','LATITUDE','LONGTITUDE','New Georef'],\n",
    "                      inplace=True)"
   ]
  },
  {
   "cell_type": "code",
   "execution_count": 20,
   "id": "1ed8b1b1",
   "metadata": {},
   "outputs": [],
   "source": [
    "# Make polygon geometry a string column\n",
    "polygons_species['str_geometry'] = polygons_species.geometry.apply(lambda x: wkt.dumps(x))\n",
    "\n",
    "# For each polygon, select the most common species\n",
    "polygons_species = polygons_species.groupby(['str_geometry', 'heights'])['SPECIES'].apply(lambda x: x.value_counts().index[0]).reset_index()\n",
    "\n",
    "# Change string geometry back to geometry and output as a new shapefile\n",
    "polygons_species['geometry'] = polygons_species['str_geometry'].apply(lambda x: wkt.loads(x))\n",
    "polygons_species.drop(columns='str_geometry', inplace=True)\n",
    "polygons_species = gpd.GeoDataFrame(data=polygons_species, geometry=polygons_species['geometry'], crs=4326)\n",
    "polygons_species.to_file('polygons_species.shp')"
   ]
  },
  {
   "cell_type": "code",
   "execution_count": 21,
   "id": "e322851f",
   "metadata": {},
   "outputs": [
    {
     "data": {
      "text/plain": [
       "Pecan                           972\n",
       "Elm, Cedar                      914\n",
       "Southern Live Oak               597\n",
       "Crapemyrtle                     241\n",
       "Oak, Post                       200\n",
       "Oak, Texas Live (Escarpment)    155\n",
       "Sugarberry                      136\n",
       "Elm, American                   127\n",
       "Juniper, Ashe                    98\n",
       "Hackberry                        74\n",
       "Live Oak                         63\n",
       "Privet, Japanese                 55\n",
       "Chinaberrytree                   50\n",
       "Oak, Texas Red                   50\n",
       "Cedar, Eastern Red               47\n",
       "Tallow, Chinese                  46\n",
       "Oak, Bur                         44\n",
       "Mesquite, Honey                  43\n",
       "American Sycamore                42\n",
       "Post Oak                         37\n",
       "Name: SPECIES, dtype: int64"
      ]
     },
     "execution_count": 21,
     "metadata": {},
     "output_type": "execute_result"
    }
   ],
   "source": [
    "polygons_species['SPECIES'].value_counts()[:20]"
   ]
  },
  {
   "cell_type": "code",
   "execution_count": 22,
   "id": "c5462db2",
   "metadata": {},
   "outputs": [
    {
     "data": {
      "image/png": "[encoded data removed]",
      "text/plain": [
       "<Figure size 1080x360 with 1 Axes>"
      ]
     },
     "metadata": {
      "needs_background": "light"
     },
     "output_type": "display_data"
    }
   ],
   "source": [
    "# After matching each polygon to a single species\n",
    "# We now plot the histogram of all the polygon species\n",
    "\n",
    "plt.figure(figsize=(15,5))\n",
    "ax = sns.countplot(x=polygons_species['SPECIES'], order=polygons_species['SPECIES'].value_counts().iloc[:10].index)\n",
    "ax.tick_params(axis='x', rotation=30)\n",
    "for p in ax.patches:\n",
    "    ax.annotate('{:}'.format(p.get_height()), (p.get_x()+0.25, p.get_height()+0.01))\n",
    "plt.show()"
   ]
  },
  {
   "cell_type": "code",
   "execution_count": 14,
   "id": "0f78bf5e",
   "metadata": {},
   "outputs": [
    {
     "name": "stderr",
     "output_type": "stream",
     "text": [
      "<ipython-input-14-a12102a4d731>:2: UserWarning: Column names longer than 10 characters will be truncated when saved to ESRI Shapefile.\n",
      "  points_in_polygons.to_file('points_in_polygons.shp')\n"
     ]
    }
   ],
   "source": [
    "# To test if the polygons_species is correct, use QGIS manual check\n",
    "\n",
    "points_in_polygons = gpd.sjoin(species_points, polygons)\n",
    "points_in_polygons.to_file('points_in_polygons.shp')"
   ]
  },
  {
   "cell_type": "markdown",
   "id": "863ef47b",
   "metadata": {},
   "source": [
    "### 4. Associate Species info with every pixel within polygons"
   ]
  },
  {
   "cell_type": "code",
   "execution_count": 25,
   "id": "9cad1513",
   "metadata": {},
   "outputs": [],
   "source": [
    "import rasterio\n",
    "import rasterio.mask\n",
    "from rasterio.warp import calculate_default_transform, reproject, Resampling\n",
    "import fiona"
   ]
  },
  {
   "cell_type": "code",
   "execution_count": 26,
   "id": "639ef55c",
   "metadata": {},
   "outputs": [],
   "source": [
    "# Transform projection of austin imagery to specific coordinate system\n",
    "\n",
    "# Specify output projection system\n",
    "dst_crs = 'EPSG:4326'\n",
    "\n",
    "# Input imagery file name before transformation\n",
    "austin_sw_file = 'm_3009743_sw_14_060_20201018.tif'\n",
    "# Save output imagery file name after transformation\n",
    "transformed_imagery_file = 'austin_sw_4326.tif'\n",
    "\n",
    "with rasterio.open(austin_sw_file) as imagery:\n",
    "    transform, width, height = calculate_default_transform(imagery.crs, dst_crs, imagery.width, imagery.height, *imagery.bounds)\n",
    "    kwargs = imagery.meta.copy()\n",
    "    kwargs.update({'crs': dst_crs, 'transform': transform, 'width': width, 'height': height})\n",
    "    with rasterio.open(transformed_imagery_file, 'w', **kwargs) as dst:\n",
    "        for i in range(1, imagery.count + 1):\n",
    "            reproject(\n",
    "                source=rasterio.band(imagery, i),\n",
    "                destination=rasterio.band(dst, i),\n",
    "                src_transform=imagery.transform,\n",
    "                src_crs=imagery.crs,\n",
    "                dst_transform=transform,\n",
    "                dst_crs=dst_crs,\n",
    "                resampling=Resampling.nearest)"
   ]
  },
  {
   "cell_type": "code",
   "execution_count": 27,
   "id": "a32c46e4",
   "metadata": {},
   "outputs": [
    {
     "data": {
      "text/plain": [
       "CRS.from_epsg(4326)"
      ]
     },
     "execution_count": 27,
     "metadata": {},
     "output_type": "execute_result"
    }
   ],
   "source": [
    "austin_sw = rasterio.open('austin_sw_4326.tif')\n",
    "austin_sw.crs"
   ]
  },
  {
   "cell_type": "code",
   "execution_count": 28,
   "id": "0736b05c",
   "metadata": {},
   "outputs": [
    {
     "name": "stderr",
     "output_type": "stream",
     "text": [
      "/Users/kennywu/opt/anaconda3/lib/python3.8/site-packages/rasterio/mask.py:191: NodataShadowWarning: The dataset's nodata attribute is shadowing the alpha band. All masks will be determined by the nodata attribute\n",
      "  out_image = dataset.read(\n"
     ]
    }
   ],
   "source": [
    "# Clip the raster file with polygons\n",
    "\n",
    "# Read Shape file\n",
    "with fiona.open('polygons_species.shp', \"r\") as shapefile:\n",
    "    shapes = [feature[\"geometry\"] for feature in shapefile]\n",
    "\n",
    "# read imagery file\n",
    "with rasterio.open('austin_sw_4326.tif') as src:\n",
    "    out_image, out_transform = rasterio.mask.mask(src, shapes, crop=True)\n",
    "    out_meta = src.meta\n",
    "\n",
    "# Save clipped imagery\n",
    "out_meta.update({\"driver\": \"GTiff\",\n",
    "                 \"height\": out_image.shape[1],\n",
    "                 \"width\": out_image.shape[2],\n",
    "                 \"transform\": out_transform})\n",
    "\n",
    "with rasterio.open('austin_sw_crop.tif', \"w\", **out_meta) as dest:\n",
    "    dest.write(out_image)"
   ]
  },
  {
   "cell_type": "markdown",
   "id": "ffff69a7",
   "metadata": {},
   "source": [
    "## Determine Final Species"
   ]
  },
  {
   "cell_type": "code",
   "execution_count": 11,
   "id": "632bf0f9",
   "metadata": {},
   "outputs": [
    {
     "data": {
      "image/png": "[encoded data removed]",
      "text/plain": [
       "<Figure size 864x360 with 1 Axes>"
      ]
     },
     "metadata": {
      "needs_background": "light"
     },
     "output_type": "display_data"
    }
   ],
   "source": [
    "# Decide final classification species ????????\n",
    "\n",
    "final_species = ['Southern Live Oak', 'Elm, Cedar', 'Pecan', 'Crapemyrtle', 'Juniper, Ashe', 'Oak, Texas Live (Escarpment)']\n",
    "tree_species.loc[~(tree_species['SPECIES'].isin(final_species)), 'SPECIES'] = 'Others'\n",
    "\n",
    "plt.figure(figsize=(12,5))\n",
    "ax = sns.countplot(x=tree_species['SPECIES'], order=tree_species['SPECIES'].value_counts().index)\n",
    "ax.tick_params(axis='x', rotation=30)\n",
    "for p in ax.patches:\n",
    "    ax.annotate('{:}'.format(p.get_height()), (p.get_x()+0.25, p.get_height()+0.01))\n",
    "plt.show()"
   ]
  }
 ],
 "metadata": {
  "kernelspec": {
   "display_name": "Python 3",
   "language": "python",
   "name": "python3"
  },
  "language_info": {
   "codemirror_mode": {
    "name": "ipython",
    "version": 3
   },
   "file_extension": ".py",
   "mimetype": "text/x-python",
   "name": "python",
   "nbconvert_exporter": "python",
   "pygments_lexer": "ipython3",
   "version": "3.8.8"
  }
 },
 "nbformat": 4,
 "nbformat_minor": 5
}
