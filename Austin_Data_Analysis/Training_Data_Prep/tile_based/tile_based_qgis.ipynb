{
 "cells": [
  {
   "cell_type": "code",
   "execution_count": 1,
   "id": "f6ffd72e",
   "metadata": {},
   "outputs": [],
   "source": [
    "import pandas as pd\n",
    "import geopandas as gpd\n",
    "import matplotlib.pyplot as plt\n",
    "import seaborn as sns\n",
    "import fiona\n",
    "import rasterio\n",
    "import rasterio.mask\n",
    "import os\n",
    "from shapely.geometry import Point\n",
    "import numpy as np"
   ]
  },
  {
   "cell_type": "code",
   "execution_count": 114,
   "id": "3c07bd09",
   "metadata": {},
   "outputs": [],
   "source": [
    "hackberry_polygons_grid = gpd.read_file('hackberry8x8.shp')"
   ]
  },
  {
   "cell_type": "code",
   "execution_count": 115,
   "id": "d53e80e2",
   "metadata": {},
   "outputs": [
    {
     "data": {
      "text/html": [
       "<div>\n",
       "<style scoped>\n",
       "    .dataframe tbody tr th:only-of-type {\n",
       "        vertical-align: middle;\n",
       "    }\n",
       "\n",
       "    .dataframe tbody tr th {\n",
       "        vertical-align: top;\n",
       "    }\n",
       "\n",
       "    .dataframe thead th {\n",
       "        text-align: right;\n",
       "    }\n",
       "</style>\n",
       "<table border=\"1\" class=\"dataframe\">\n",
       "  <thead>\n",
       "    <tr style=\"text-align: right;\">\n",
       "      <th></th>\n",
       "      <th>id</th>\n",
       "      <th>left</th>\n",
       "      <th>top</th>\n",
       "      <th>right</th>\n",
       "      <th>bottom</th>\n",
       "      <th>geometry</th>\n",
       "    </tr>\n",
       "  </thead>\n",
       "  <tbody>\n",
       "    <tr>\n",
       "      <th>0</th>\n",
       "      <td>2021284.0</td>\n",
       "      <td>620214.0</td>\n",
       "      <td>3349143.6</td>\n",
       "      <td>620218.8</td>\n",
       "      <td>3349138.8</td>\n",
       "      <td>POLYGON ((620218.072 3349138.846, 620218.572 3...</td>\n",
       "    </tr>\n",
       "    <tr>\n",
       "      <th>1</th>\n",
       "      <td>2021285.0</td>\n",
       "      <td>620214.0</td>\n",
       "      <td>3349138.8</td>\n",
       "      <td>620218.8</td>\n",
       "      <td>3349134.0</td>\n",
       "      <td>POLYGON ((620218.316 3349138.343, 620218.319 3...</td>\n",
       "    </tr>\n",
       "    <tr>\n",
       "      <th>2</th>\n",
       "      <td>2021287.0</td>\n",
       "      <td>620214.0</td>\n",
       "      <td>3349129.2</td>\n",
       "      <td>620218.8</td>\n",
       "      <td>3349124.4</td>\n",
       "      <td>POLYGON ((620218.685 3349127.590, 620218.681 3...</td>\n",
       "    </tr>\n",
       "    <tr>\n",
       "      <th>3</th>\n",
       "      <td>2022838.0</td>\n",
       "      <td>620218.8</td>\n",
       "      <td>3349143.6</td>\n",
       "      <td>620223.6</td>\n",
       "      <td>3349138.8</td>\n",
       "      <td>POLYGON ((620219.075 3349139.084, 620219.078 3...</td>\n",
       "    </tr>\n",
       "    <tr>\n",
       "      <th>4</th>\n",
       "      <td>2022839.0</td>\n",
       "      <td>620218.8</td>\n",
       "      <td>3349138.8</td>\n",
       "      <td>620223.6</td>\n",
       "      <td>3349134.0</td>\n",
       "      <td>POLYGON ((620222.013 3349134.048, 620221.763 3...</td>\n",
       "    </tr>\n",
       "    <tr>\n",
       "      <th>...</th>\n",
       "      <td>...</td>\n",
       "      <td>...</td>\n",
       "      <td>...</td>\n",
       "      <td>...</td>\n",
       "      <td>...</td>\n",
       "      <td>...</td>\n",
       "    </tr>\n",
       "    <tr>\n",
       "      <th>3472</th>\n",
       "      <td>2046058.0</td>\n",
       "      <td>620290.8</td>\n",
       "      <td>3349575.6</td>\n",
       "      <td>620295.6</td>\n",
       "      <td>3349570.8</td>\n",
       "      <td>POLYGON ((620295.404 3349573.403, 620295.407 3...</td>\n",
       "    </tr>\n",
       "    <tr>\n",
       "      <th>3473</th>\n",
       "      <td>2047611.0</td>\n",
       "      <td>620295.6</td>\n",
       "      <td>3349580.4</td>\n",
       "      <td>620300.4</td>\n",
       "      <td>3349575.6</td>\n",
       "      <td>POLYGON ((620296.230 3349579.642, 620296.227 3...</td>\n",
       "    </tr>\n",
       "    <tr>\n",
       "      <th>3474</th>\n",
       "      <td>2047612.0</td>\n",
       "      <td>620295.6</td>\n",
       "      <td>3349575.6</td>\n",
       "      <td>620300.4</td>\n",
       "      <td>3349570.8</td>\n",
       "      <td>POLYGON ((620299.643 3349572.601, 620299.640 3...</td>\n",
       "    </tr>\n",
       "    <tr>\n",
       "      <th>3475</th>\n",
       "      <td>2049165.0</td>\n",
       "      <td>620300.4</td>\n",
       "      <td>3349580.4</td>\n",
       "      <td>620305.2</td>\n",
       "      <td>3349575.6</td>\n",
       "      <td>POLYGON ((620300.707 3349577.838, 620300.704 3...</td>\n",
       "    </tr>\n",
       "    <tr>\n",
       "      <th>3476</th>\n",
       "      <td>2049166.0</td>\n",
       "      <td>620300.4</td>\n",
       "      <td>3349575.6</td>\n",
       "      <td>620305.2</td>\n",
       "      <td>3349570.8</td>\n",
       "      <td>POLYGON ((620303.179 3349575.558, 620303.429 3...</td>\n",
       "    </tr>\n",
       "  </tbody>\n",
       "</table>\n",
       "<p>3477 rows × 6 columns</p>\n",
       "</div>"
      ],
      "text/plain": [
       "             id      left        top     right     bottom  \\\n",
       "0     2021284.0  620214.0  3349143.6  620218.8  3349138.8   \n",
       "1     2021285.0  620214.0  3349138.8  620218.8  3349134.0   \n",
       "2     2021287.0  620214.0  3349129.2  620218.8  3349124.4   \n",
       "3     2022838.0  620218.8  3349143.6  620223.6  3349138.8   \n",
       "4     2022839.0  620218.8  3349138.8  620223.6  3349134.0   \n",
       "...         ...       ...        ...       ...        ...   \n",
       "3472  2046058.0  620290.8  3349575.6  620295.6  3349570.8   \n",
       "3473  2047611.0  620295.6  3349580.4  620300.4  3349575.6   \n",
       "3474  2047612.0  620295.6  3349575.6  620300.4  3349570.8   \n",
       "3475  2049165.0  620300.4  3349580.4  620305.2  3349575.6   \n",
       "3476  2049166.0  620300.4  3349575.6  620305.2  3349570.8   \n",
       "\n",
       "                                               geometry  \n",
       "0     POLYGON ((620218.072 3349138.846, 620218.572 3...  \n",
       "1     POLYGON ((620218.316 3349138.343, 620218.319 3...  \n",
       "2     POLYGON ((620218.685 3349127.590, 620218.681 3...  \n",
       "3     POLYGON ((620219.075 3349139.084, 620219.078 3...  \n",
       "4     POLYGON ((620222.013 3349134.048, 620221.763 3...  \n",
       "...                                                 ...  \n",
       "3472  POLYGON ((620295.404 3349573.403, 620295.407 3...  \n",
       "3473  POLYGON ((620296.230 3349579.642, 620296.227 3...  \n",
       "3474  POLYGON ((620299.643 3349572.601, 620299.640 3...  \n",
       "3475  POLYGON ((620300.707 3349577.838, 620300.704 3...  \n",
       "3476  POLYGON ((620303.179 3349575.558, 620303.429 3...  \n",
       "\n",
       "[3477 rows x 6 columns]"
      ]
     },
     "execution_count": 115,
     "metadata": {},
     "output_type": "execute_result"
    }
   ],
   "source": [
    "hackberry_polygons_grid"
   ]
  },
  {
   "cell_type": "code",
   "execution_count": 121,
   "id": "8293fb2e",
   "metadata": {},
   "outputs": [],
   "source": [
    "# hackberry_polygons_grid_proj = hackberry_polygons_grid.to_crs({'init': 'epsg:3857'})\n",
    "# hackberry_polygons_grid_proj.crs"
   ]
  },
  {
   "cell_type": "code",
   "execution_count": 116,
   "id": "34709279",
   "metadata": {},
   "outputs": [],
   "source": [
    "hackberry_polygons_grid[\"area\"] = hackberry_polygons_grid['geometry'].area/ 10**6"
   ]
  },
  {
   "cell_type": "code",
   "execution_count": 117,
   "id": "d5e9a9ee",
   "metadata": {},
   "outputs": [
    {
     "data": {
      "text/html": [
       "<div>\n",
       "<style scoped>\n",
       "    .dataframe tbody tr th:only-of-type {\n",
       "        vertical-align: middle;\n",
       "    }\n",
       "\n",
       "    .dataframe tbody tr th {\n",
       "        vertical-align: top;\n",
       "    }\n",
       "\n",
       "    .dataframe thead th {\n",
       "        text-align: right;\n",
       "    }\n",
       "</style>\n",
       "<table border=\"1\" class=\"dataframe\">\n",
       "  <thead>\n",
       "    <tr style=\"text-align: right;\">\n",
       "      <th></th>\n",
       "      <th>id</th>\n",
       "      <th>left</th>\n",
       "      <th>top</th>\n",
       "      <th>right</th>\n",
       "      <th>bottom</th>\n",
       "      <th>geometry</th>\n",
       "      <th>area</th>\n",
       "    </tr>\n",
       "  </thead>\n",
       "  <tbody>\n",
       "    <tr>\n",
       "      <th>0</th>\n",
       "      <td>2021284.0</td>\n",
       "      <td>620214.0</td>\n",
       "      <td>3349143.6</td>\n",
       "      <td>620218.8</td>\n",
       "      <td>3349138.8</td>\n",
       "      <td>POLYGON ((620218.072 3349138.846, 620218.572 3...</td>\n",
       "      <td>8.680588e-08</td>\n",
       "    </tr>\n",
       "    <tr>\n",
       "      <th>1</th>\n",
       "      <td>2021285.0</td>\n",
       "      <td>620214.0</td>\n",
       "      <td>3349138.8</td>\n",
       "      <td>620218.8</td>\n",
       "      <td>3349134.0</td>\n",
       "      <td>POLYGON ((620218.316 3349138.343, 620218.319 3...</td>\n",
       "      <td>2.727003e-07</td>\n",
       "    </tr>\n",
       "    <tr>\n",
       "      <th>2</th>\n",
       "      <td>2021287.0</td>\n",
       "      <td>620214.0</td>\n",
       "      <td>3349129.2</td>\n",
       "      <td>620218.8</td>\n",
       "      <td>3349124.4</td>\n",
       "      <td>POLYGON ((620218.685 3349127.590, 620218.681 3...</td>\n",
       "      <td>8.220553e-07</td>\n",
       "    </tr>\n",
       "    <tr>\n",
       "      <th>3</th>\n",
       "      <td>2022838.0</td>\n",
       "      <td>620218.8</td>\n",
       "      <td>3349143.6</td>\n",
       "      <td>620223.6</td>\n",
       "      <td>3349138.8</td>\n",
       "      <td>POLYGON ((620219.075 3349139.084, 620219.078 3...</td>\n",
       "      <td>7.449289e-06</td>\n",
       "    </tr>\n",
       "    <tr>\n",
       "      <th>4</th>\n",
       "      <td>2022839.0</td>\n",
       "      <td>620218.8</td>\n",
       "      <td>3349138.8</td>\n",
       "      <td>620223.6</td>\n",
       "      <td>3349134.0</td>\n",
       "      <td>POLYGON ((620222.013 3349134.048, 620221.763 3...</td>\n",
       "      <td>1.493002e-05</td>\n",
       "    </tr>\n",
       "    <tr>\n",
       "      <th>...</th>\n",
       "      <td>...</td>\n",
       "      <td>...</td>\n",
       "      <td>...</td>\n",
       "      <td>...</td>\n",
       "      <td>...</td>\n",
       "      <td>...</td>\n",
       "      <td>...</td>\n",
       "    </tr>\n",
       "    <tr>\n",
       "      <th>3472</th>\n",
       "      <td>2046058.0</td>\n",
       "      <td>620290.8</td>\n",
       "      <td>3349575.6</td>\n",
       "      <td>620295.6</td>\n",
       "      <td>3349570.8</td>\n",
       "      <td>POLYGON ((620295.404 3349573.403, 620295.407 3...</td>\n",
       "      <td>1.593304e-06</td>\n",
       "    </tr>\n",
       "    <tr>\n",
       "      <th>3473</th>\n",
       "      <td>2047611.0</td>\n",
       "      <td>620295.6</td>\n",
       "      <td>3349580.4</td>\n",
       "      <td>620300.4</td>\n",
       "      <td>3349575.6</td>\n",
       "      <td>POLYGON ((620296.230 3349579.642, 620296.227 3...</td>\n",
       "      <td>1.498202e-05</td>\n",
       "    </tr>\n",
       "    <tr>\n",
       "      <th>3474</th>\n",
       "      <td>2047612.0</td>\n",
       "      <td>620295.6</td>\n",
       "      <td>3349575.6</td>\n",
       "      <td>620300.4</td>\n",
       "      <td>3349570.8</td>\n",
       "      <td>POLYGON ((620299.643 3349572.601, 620299.640 3...</td>\n",
       "      <td>1.451065e-05</td>\n",
       "    </tr>\n",
       "    <tr>\n",
       "      <th>3475</th>\n",
       "      <td>2049165.0</td>\n",
       "      <td>620300.4</td>\n",
       "      <td>3349580.4</td>\n",
       "      <td>620305.2</td>\n",
       "      <td>3349575.6</td>\n",
       "      <td>POLYGON ((620300.707 3349577.838, 620300.704 3...</td>\n",
       "      <td>2.901616e-06</td>\n",
       "    </tr>\n",
       "    <tr>\n",
       "      <th>3476</th>\n",
       "      <td>2049166.0</td>\n",
       "      <td>620300.4</td>\n",
       "      <td>3349575.6</td>\n",
       "      <td>620305.2</td>\n",
       "      <td>3349570.8</td>\n",
       "      <td>POLYGON ((620303.179 3349575.558, 620303.429 3...</td>\n",
       "      <td>6.039912e-06</td>\n",
       "    </tr>\n",
       "  </tbody>\n",
       "</table>\n",
       "<p>3477 rows × 7 columns</p>\n",
       "</div>"
      ],
      "text/plain": [
       "             id      left        top     right     bottom  \\\n",
       "0     2021284.0  620214.0  3349143.6  620218.8  3349138.8   \n",
       "1     2021285.0  620214.0  3349138.8  620218.8  3349134.0   \n",
       "2     2021287.0  620214.0  3349129.2  620218.8  3349124.4   \n",
       "3     2022838.0  620218.8  3349143.6  620223.6  3349138.8   \n",
       "4     2022839.0  620218.8  3349138.8  620223.6  3349134.0   \n",
       "...         ...       ...        ...       ...        ...   \n",
       "3472  2046058.0  620290.8  3349575.6  620295.6  3349570.8   \n",
       "3473  2047611.0  620295.6  3349580.4  620300.4  3349575.6   \n",
       "3474  2047612.0  620295.6  3349575.6  620300.4  3349570.8   \n",
       "3475  2049165.0  620300.4  3349580.4  620305.2  3349575.6   \n",
       "3476  2049166.0  620300.4  3349575.6  620305.2  3349570.8   \n",
       "\n",
       "                                               geometry          area  \n",
       "0     POLYGON ((620218.072 3349138.846, 620218.572 3...  8.680588e-08  \n",
       "1     POLYGON ((620218.316 3349138.343, 620218.319 3...  2.727003e-07  \n",
       "2     POLYGON ((620218.685 3349127.590, 620218.681 3...  8.220553e-07  \n",
       "3     POLYGON ((620219.075 3349139.084, 620219.078 3...  7.449289e-06  \n",
       "4     POLYGON ((620222.013 3349134.048, 620221.763 3...  1.493002e-05  \n",
       "...                                                 ...           ...  \n",
       "3472  POLYGON ((620295.404 3349573.403, 620295.407 3...  1.593304e-06  \n",
       "3473  POLYGON ((620296.230 3349579.642, 620296.227 3...  1.498202e-05  \n",
       "3474  POLYGON ((620299.643 3349572.601, 620299.640 3...  1.451065e-05  \n",
       "3475  POLYGON ((620300.707 3349577.838, 620300.704 3...  2.901616e-06  \n",
       "3476  POLYGON ((620303.179 3349575.558, 620303.429 3...  6.039912e-06  \n",
       "\n",
       "[3477 rows x 7 columns]"
      ]
     },
     "execution_count": 117,
     "metadata": {},
     "output_type": "execute_result"
    }
   ],
   "source": [
    "hackberry_polygons_grid"
   ]
  },
  {
   "cell_type": "code",
   "execution_count": 119,
   "id": "f5b1921e",
   "metadata": {},
   "outputs": [
    {
     "data": {
      "text/plain": [
       "6.911999999798834e-06"
      ]
     },
     "execution_count": 119,
     "metadata": {},
     "output_type": "execute_result"
    }
   ],
   "source": [
    "area8x8 = hackberry_polygons_grid['area'].max()\n",
    "area8x8*0.3"
   ]
  },
  {
   "cell_type": "code",
   "execution_count": 120,
   "id": "a3c63238",
   "metadata": {},
   "outputs": [
    {
     "data": {
      "text/html": [
       "<div>\n",
       "<style scoped>\n",
       "    .dataframe tbody tr th:only-of-type {\n",
       "        vertical-align: middle;\n",
       "    }\n",
       "\n",
       "    .dataframe tbody tr th {\n",
       "        vertical-align: top;\n",
       "    }\n",
       "\n",
       "    .dataframe thead th {\n",
       "        text-align: right;\n",
       "    }\n",
       "</style>\n",
       "<table border=\"1\" class=\"dataframe\">\n",
       "  <thead>\n",
       "    <tr style=\"text-align: right;\">\n",
       "      <th></th>\n",
       "      <th>id</th>\n",
       "      <th>left</th>\n",
       "      <th>top</th>\n",
       "      <th>right</th>\n",
       "      <th>bottom</th>\n",
       "      <th>geometry</th>\n",
       "      <th>area</th>\n",
       "    </tr>\n",
       "  </thead>\n",
       "  <tbody>\n",
       "    <tr>\n",
       "      <th>3</th>\n",
       "      <td>2022838.0</td>\n",
       "      <td>620218.8</td>\n",
       "      <td>3349143.6</td>\n",
       "      <td>620223.6</td>\n",
       "      <td>3349138.8</td>\n",
       "      <td>POLYGON ((620219.075 3349139.084, 620219.078 3...</td>\n",
       "      <td>0.000007</td>\n",
       "    </tr>\n",
       "    <tr>\n",
       "      <th>4</th>\n",
       "      <td>2022839.0</td>\n",
       "      <td>620218.8</td>\n",
       "      <td>3349138.8</td>\n",
       "      <td>620223.6</td>\n",
       "      <td>3349134.0</td>\n",
       "      <td>POLYGON ((620222.013 3349134.048, 620221.763 3...</td>\n",
       "      <td>0.000015</td>\n",
       "    </tr>\n",
       "    <tr>\n",
       "      <th>5</th>\n",
       "      <td>2022840.0</td>\n",
       "      <td>620218.8</td>\n",
       "      <td>3349134.0</td>\n",
       "      <td>620223.6</td>\n",
       "      <td>3349129.2</td>\n",
       "      <td>POLYGON ((620219.209 3349129.583, 620219.459 3...</td>\n",
       "      <td>0.000012</td>\n",
       "    </tr>\n",
       "    <tr>\n",
       "      <th>6</th>\n",
       "      <td>2022841.0</td>\n",
       "      <td>620218.8</td>\n",
       "      <td>3349129.2</td>\n",
       "      <td>620223.6</td>\n",
       "      <td>3349124.4</td>\n",
       "      <td>POLYGON ((620223.397 3349124.532, 620223.395 3...</td>\n",
       "      <td>0.000016</td>\n",
       "    </tr>\n",
       "    <tr>\n",
       "      <th>8</th>\n",
       "      <td>2024392.0</td>\n",
       "      <td>620223.6</td>\n",
       "      <td>3349143.6</td>\n",
       "      <td>620228.4</td>\n",
       "      <td>3349138.8</td>\n",
       "      <td>POLYGON ((620227.116 3349142.485, 620227.113 3...</td>\n",
       "      <td>0.000015</td>\n",
       "    </tr>\n",
       "    <tr>\n",
       "      <th>...</th>\n",
       "      <td>...</td>\n",
       "      <td>...</td>\n",
       "      <td>...</td>\n",
       "      <td>...</td>\n",
       "      <td>...</td>\n",
       "      <td>...</td>\n",
       "      <td>...</td>\n",
       "    </tr>\n",
       "    <tr>\n",
       "      <th>3465</th>\n",
       "      <td>2047340.0</td>\n",
       "      <td>620295.6</td>\n",
       "      <td>3350881.2</td>\n",
       "      <td>620300.4</td>\n",
       "      <td>3350876.4</td>\n",
       "      <td>POLYGON ((620295.764 3350880.798, 620295.761 3...</td>\n",
       "      <td>0.000011</td>\n",
       "    </tr>\n",
       "    <tr>\n",
       "      <th>3466</th>\n",
       "      <td>2047341.0</td>\n",
       "      <td>620295.6</td>\n",
       "      <td>3350876.4</td>\n",
       "      <td>620300.4</td>\n",
       "      <td>3350871.6</td>\n",
       "      <td>POLYGON ((620299.705 3350876.001, 620299.702 3...</td>\n",
       "      <td>0.000014</td>\n",
       "    </tr>\n",
       "    <tr>\n",
       "      <th>3471</th>\n",
       "      <td>2046057.0</td>\n",
       "      <td>620290.8</td>\n",
       "      <td>3349580.4</td>\n",
       "      <td>620295.6</td>\n",
       "      <td>3349575.6</td>\n",
       "      <td>POLYGON ((620295.227 3349579.405, 620295.230 3...</td>\n",
       "      <td>0.000014</td>\n",
       "    </tr>\n",
       "    <tr>\n",
       "      <th>3473</th>\n",
       "      <td>2047611.0</td>\n",
       "      <td>620295.6</td>\n",
       "      <td>3349580.4</td>\n",
       "      <td>620300.4</td>\n",
       "      <td>3349575.6</td>\n",
       "      <td>POLYGON ((620296.230 3349579.642, 620296.227 3...</td>\n",
       "      <td>0.000015</td>\n",
       "    </tr>\n",
       "    <tr>\n",
       "      <th>3474</th>\n",
       "      <td>2047612.0</td>\n",
       "      <td>620295.6</td>\n",
       "      <td>3349575.6</td>\n",
       "      <td>620300.4</td>\n",
       "      <td>3349570.8</td>\n",
       "      <td>POLYGON ((620299.643 3349572.601, 620299.640 3...</td>\n",
       "      <td>0.000015</td>\n",
       "    </tr>\n",
       "  </tbody>\n",
       "</table>\n",
       "<p>1864 rows × 7 columns</p>\n",
       "</div>"
      ],
      "text/plain": [
       "             id      left        top     right     bottom  \\\n",
       "3     2022838.0  620218.8  3349143.6  620223.6  3349138.8   \n",
       "4     2022839.0  620218.8  3349138.8  620223.6  3349134.0   \n",
       "5     2022840.0  620218.8  3349134.0  620223.6  3349129.2   \n",
       "6     2022841.0  620218.8  3349129.2  620223.6  3349124.4   \n",
       "8     2024392.0  620223.6  3349143.6  620228.4  3349138.8   \n",
       "...         ...       ...        ...       ...        ...   \n",
       "3465  2047340.0  620295.6  3350881.2  620300.4  3350876.4   \n",
       "3466  2047341.0  620295.6  3350876.4  620300.4  3350871.6   \n",
       "3471  2046057.0  620290.8  3349580.4  620295.6  3349575.6   \n",
       "3473  2047611.0  620295.6  3349580.4  620300.4  3349575.6   \n",
       "3474  2047612.0  620295.6  3349575.6  620300.4  3349570.8   \n",
       "\n",
       "                                               geometry      area  \n",
       "3     POLYGON ((620219.075 3349139.084, 620219.078 3...  0.000007  \n",
       "4     POLYGON ((620222.013 3349134.048, 620221.763 3...  0.000015  \n",
       "5     POLYGON ((620219.209 3349129.583, 620219.459 3...  0.000012  \n",
       "6     POLYGON ((620223.397 3349124.532, 620223.395 3...  0.000016  \n",
       "8     POLYGON ((620227.116 3349142.485, 620227.113 3...  0.000015  \n",
       "...                                                 ...       ...  \n",
       "3465  POLYGON ((620295.764 3350880.798, 620295.761 3...  0.000011  \n",
       "3466  POLYGON ((620299.705 3350876.001, 620299.702 3...  0.000014  \n",
       "3471  POLYGON ((620295.227 3349579.405, 620295.230 3...  0.000014  \n",
       "3473  POLYGON ((620296.230 3349579.642, 620296.227 3...  0.000015  \n",
       "3474  POLYGON ((620299.643 3349572.601, 620299.640 3...  0.000015  \n",
       "\n",
       "[1864 rows x 7 columns]"
      ]
     },
     "execution_count": 120,
     "metadata": {},
     "output_type": "execute_result"
    }
   ],
   "source": [
    "hackberry_polygons_grid[hackberry_polygons_grid['area'] >= area8x8*0.3]"
   ]
  },
  {
   "cell_type": "code",
   "execution_count": 122,
   "id": "097c5b4d",
   "metadata": {},
   "outputs": [
    {
     "data": {
      "text/plain": [
       "<Derived Projected CRS: EPSG:26914>\n",
       "Name: NAD83 / UTM zone 14N\n",
       "Axis Info [cartesian]:\n",
       "- E[east]: Easting (metre)\n",
       "- N[north]: Northing (metre)\n",
       "Area of Use:\n",
       "- name: North America - between 102°W and 96°W - onshore and offshore. Canada - Manitoba; Nunavut; Saskatchewan. United States (USA) - Iowa; Kansas; Minnesota; Nebraska; North Dakota; Oklahoma; South Dakota; Texas.\n",
       "- bounds: (-102.0, 25.83, -96.0, 84.0)\n",
       "Coordinate Operation:\n",
       "- name: UTM zone 14N\n",
       "- method: Transverse Mercator\n",
       "Datum: North American Datum 1983\n",
       "- Ellipsoid: GRS 1980\n",
       "- Prime Meridian: Greenwich"
      ]
     },
     "execution_count": 122,
     "metadata": {},
     "output_type": "execute_result"
    }
   ],
   "source": [
    "hackberry_rect = hackberry_polygons_grid[hackberry_polygons_grid['area']>=area8x8*0.3]\n",
    "hackberry_rect.crs"
   ]
  },
  {
   "cell_type": "code",
   "execution_count": 123,
   "id": "ea41e233",
   "metadata": {},
   "outputs": [],
   "source": [
    "hackberry_rect.to_file('hackberry_rect8x8.shp')"
   ]
  },
  {
   "cell_type": "code",
   "execution_count": 28,
   "id": "fa13b518",
   "metadata": {},
   "outputs": [
    {
     "name": "stderr",
     "output_type": "stream",
     "text": [
      "/Users/kennywu/opt/anaconda3/lib/python3.8/site-packages/rasterio/mask.py:191: NodataShadowWarning: The dataset's nodata attribute is shadowing the alpha band. All masks will be determined by the nodata attribute\n",
      "  out_image = dataset.read(\n"
     ]
    }
   ],
   "source": [
    "file_names = ['test_se_raster']\n",
    "\n",
    "for file_name in file_names:\n",
    "    # clip the raster file with polygons\n",
    "    # read polygons_species_mode shapefile\n",
    "    with fiona.open('test_rect4x4.shp', 'r') as shapefile:\n",
    "        shapes = [feature['geometry'] for feature in shapefile]\n",
    "\n",
    "    # read imagery file\n",
    "    raster_file = file_name + str('.tif')\n",
    "    with rasterio.open(raster_file) as src:\n",
    "        out_image, out_transform = rasterio.mask.mask(src, shapes, crop=True)\n",
    "        out_meta = src.meta\n",
    "\n",
    "    # save clipped imagery\n",
    "    out_meta.update({'driver': 'GTiff', \n",
    "                     'height': out_image.shape[1], \n",
    "                     'width': out_image.shape[2], \n",
    "                     'transform': out_transform})\n",
    "\n",
    "    clipped_file_name = file_name + str('_clipped.tif')\n",
    "    with rasterio.open(clipped_file_name, 'w', **out_meta) as dest: \n",
    "        dest.write(out_image)"
   ]
  },
  {
   "cell_type": "markdown",
   "id": "7c05a406",
   "metadata": {},
   "source": [
    "## Test single species"
   ]
  },
  {
   "cell_type": "code",
   "execution_count": 111,
   "id": "ba7b2d0d",
   "metadata": {},
   "outputs": [],
   "source": [
    "combine_polygons = gpd.read_file('combine_polygons_26914.shp')"
   ]
  },
  {
   "cell_type": "code",
   "execution_count": 32,
   "id": "394434be",
   "metadata": {
    "scrolled": true
   },
   "outputs": [
    {
     "data": {
      "text/plain": [
       "pecan                  1759\n",
       "elm cedar              1591\n",
       "southern live oak      1426\n",
       "escarpment live oak     964\n",
       "crape myrtle            423\n",
       "hackberry               321\n",
       "post oak                310\n",
       "ashe juniper            232\n",
       "shumard oak             223\n",
       "elm american            188\n",
       "Name: SPECIES, dtype: int64"
      ]
     },
     "execution_count": 32,
     "metadata": {},
     "output_type": "execute_result"
    }
   ],
   "source": [
    "combine_polygons['SPECIES'].value_counts()[:10]"
   ]
  },
  {
   "cell_type": "code",
   "execution_count": 99,
   "id": "23157538",
   "metadata": {},
   "outputs": [],
   "source": [
    "pecan_polygons = combine_polygons[combine_polygons['SPECIES']=='pecan']"
   ]
  },
  {
   "cell_type": "code",
   "execution_count": 101,
   "id": "91969533",
   "metadata": {},
   "outputs": [],
   "source": [
    "pecan_polygons.to_file('pecan_polygons.shp')"
   ]
  },
  {
   "cell_type": "code",
   "execution_count": 85,
   "id": "07daa188",
   "metadata": {},
   "outputs": [],
   "source": [
    "ashe_polygons = combine_polygons[combine_polygons['SPECIES']=='ashe juniper']"
   ]
  },
  {
   "cell_type": "code",
   "execution_count": 87,
   "id": "cad495a7",
   "metadata": {},
   "outputs": [],
   "source": [
    "ashe_polygons.to_file('ashe_polygons.shp')"
   ]
  },
  {
   "cell_type": "code",
   "execution_count": 113,
   "id": "514c956d",
   "metadata": {},
   "outputs": [],
   "source": [
    "hackberry_polygons = combine_polygons[combine_polygons['SPECIES']=='hackberry']\n",
    "hackberry_polygons.to_file('hackberry_polygons.shp')"
   ]
  },
  {
   "cell_type": "code",
   "execution_count": 36,
   "id": "261afc9e",
   "metadata": {},
   "outputs": [],
   "source": [
    "combine_8x8grid = gpd.read_file('combine_8x8grid.shp')"
   ]
  },
  {
   "cell_type": "code",
   "execution_count": null,
   "id": "b3738767",
   "metadata": {},
   "outputs": [],
   "source": [
    "se_texture = gpd.sjoin(hackberry_polygons, combine_8x8grid, how='inner', op='within')\n",
    "se_texture.drop(columns='index_right',inplace=True)"
   ]
  },
  {
   "cell_type": "code",
   "execution_count": 135,
   "id": "66e7041a",
   "metadata": {},
   "outputs": [],
   "source": [
    "hackberry_1500 = rasterio.open('hackberry/hackberry_1500.tif').read()"
   ]
  },
  {
   "cell_type": "code",
   "execution_count": 139,
   "id": "0b7ce980",
   "metadata": {},
   "outputs": [],
   "source": [
    "hackberry_514 = rasterio.open('hackberry/hackberry_514.tif').read()\n",
    "hackberry_10 = rasterio.open('hackberry/hackberry_10.tif').read()"
   ]
  },
  {
   "cell_type": "code",
   "execution_count": 140,
   "id": "10dc6762",
   "metadata": {},
   "outputs": [
    {
     "data": {
      "text/plain": [
       "(4, 9, 9)"
      ]
     },
     "execution_count": 140,
     "metadata": {},
     "output_type": "execute_result"
    }
   ],
   "source": [
    "hackberry_10.shape"
   ]
  },
  {
   "cell_type": "code",
   "execution_count": 138,
   "id": "e5e547f8",
   "metadata": {},
   "outputs": [
    {
     "data": {
      "text/plain": [
       "(4, 9, 8)"
      ]
     },
     "execution_count": 138,
     "metadata": {},
     "output_type": "execute_result"
    }
   ],
   "source": [
    "hackberry_1500.shape"
   ]
  },
  {
   "cell_type": "code",
   "execution_count": 132,
   "id": "ed83790f",
   "metadata": {},
   "outputs": [
    {
     "data": {
      "text/plain": [
       "(4, 9, 9)"
      ]
     },
     "execution_count": 132,
     "metadata": {},
     "output_type": "execute_result"
    }
   ],
   "source": [
    "hackberry_514.shape"
   ]
  },
  {
   "cell_type": "code",
   "execution_count": 137,
   "id": "e838d759",
   "metadata": {},
   "outputs": [
    {
     "data": {
      "text/plain": [
       "array([[[ 43.,  51.,  49.,  42.,   0.,   0.,   0.,   0.],\n",
       "        [ 41.,  44.,  51.,  56.,   0.,   0.,   0.,   0.],\n",
       "        [ 43.,  41.,  42.,  53.,  61.,   0.,   0.,   0.],\n",
       "        [ 55.,  52.,  46.,  46.,  56.,  60.,   0.,   0.],\n",
       "        [ 65.,  64.,  58.,  48.,  47.,   0.,   0.,   0.],\n",
       "        [ 70.,  68.,  65.,  55.,   0.,   0.,   0.,   0.],\n",
       "        [ 67.,  63.,  56.,  50.,  53.,  64.,   0.,   0.],\n",
       "        [ 69.,  67.,  63.,  66.,   0.,   0.,  65.,   0.],\n",
       "        [  0.,   0.,   0.,   0.,   0.,   0.,   0.,   0.]],\n",
       "\n",
       "       [[ 50.,  63.,  65.,  58.,   0.,   0.,   0.,   0.],\n",
       "        [ 52.,  55.,  63.,  70.,   0.,   0.,   0.,   0.],\n",
       "        [ 55.,  54.,  53.,  67.,  76.,   0.,   0.,   0.],\n",
       "        [ 71.,  67.,  59.,  58.,  71.,  76.,   0.,   0.],\n",
       "        [ 81.,  79.,  74.,  59.,  59.,   0.,   0.,   0.],\n",
       "        [ 89.,  85.,  82.,  69.,   0.,   0.,   0.,   0.],\n",
       "        [ 84.,  79.,  72.,  72.,  64.,  75.,   0.,   0.],\n",
       "        [ 83.,  88.,  81.,  81.,   0.,   0.,  80.,   0.],\n",
       "        [  0.,   0.,   0.,   0.,   0.,   0.,   0.,   0.]],\n",
       "\n",
       "       [[ 60.,  64.,  64.,  62.,   0.,   0.,   0.,   0.],\n",
       "        [ 61.,  63.,  67.,  68.,   0.,   0.,   0.,   0.],\n",
       "        [ 60.,  60.,  61.,  68.,  72.,   0.,   0.,   0.],\n",
       "        [ 66.,  65.,  63.,  63.,  70.,  70.,   0.,   0.],\n",
       "        [ 71.,  72.,  69.,  64.,  65.,   0.,   0.,   0.],\n",
       "        [ 76.,  75.,  73.,  69.,   0.,   0.,   0.,   0.],\n",
       "        [ 75.,  71.,  69.,  68.,  66.,  69.,   0.,   0.],\n",
       "        [ 73.,  71.,  71.,  72.,   0.,   0.,  72.,   0.],\n",
       "        [  0.,   0.,   0.,   0.,   0.,   0.,   0.,   0.]],\n",
       "\n",
       "       [[115., 137., 142., 134.,   0.,   0.,   0.,   0.],\n",
       "        [109., 118., 137., 150.,   0.,   0.,   0.,   0.],\n",
       "        [114., 115., 120., 146., 162.,   0.,   0.,   0.],\n",
       "        [148., 143., 127., 132., 156., 164.,   0.,   0.],\n",
       "        [157., 157., 150., 135., 134.,   0.,   0.,   0.],\n",
       "        [165., 161., 158., 145.,   0.,   0.,   0.,   0.],\n",
       "        [166., 161., 149., 142., 135., 152.,   0.,   0.],\n",
       "        [164., 168., 158., 154.,   0.,   0., 165.,   0.],\n",
       "        [  0.,   0.,   0.,   0.,   0.,   0.,   0.,   0.]]], dtype=float32)"
      ]
     },
     "execution_count": 137,
     "metadata": {},
     "output_type": "execute_result"
    }
   ],
   "source": [
    "hackberry_1500"
   ]
  },
  {
   "cell_type": "code",
   "execution_count": 133,
   "id": "d4eb8e13",
   "metadata": {},
   "outputs": [
    {
     "data": {
      "text/plain": [
       "array([[[ 66.,  63.,  71.,  65.,  67.,  66.,  81.,  81.,   0.],\n",
       "        [ 70.,  67.,  78.,  65.,  56.,  49.,  69.,  74.,   0.],\n",
       "        [ 74.,  78.,  84.,  74.,  55.,  43.,  48.,  58.,   0.],\n",
       "        [ 78.,  78.,  83.,  92.,  74.,  60.,  53.,  53.,   0.],\n",
       "        [ 79.,  82.,  75.,  91.,  84.,  79.,  67.,  67.,   0.],\n",
       "        [ 75.,  78.,  86.,  77.,  71.,  78.,  77.,  73.,   0.],\n",
       "        [ 80.,  78.,  89.,  79.,  74.,  73.,  69.,  70.,   0.],\n",
       "        [ 71.,  78.,  85.,  84.,  78.,  79.,  79.,  74.,   0.],\n",
       "        [  0.,   0.,   0.,   0.,   0.,   0.,   0.,   0.,   0.]],\n",
       "\n",
       "       [[ 80.,  73.,  78.,  76.,  85.,  81.,  96.,  92.,   0.],\n",
       "        [ 83.,  78.,  88.,  76.,  68.,  60.,  77.,  82.,   0.],\n",
       "        [ 86.,  87.,  93.,  88.,  65.,  57.,  59.,  68.,   0.],\n",
       "        [ 92.,  89.,  96., 101.,  85.,  72.,  68.,  66.,   0.],\n",
       "        [ 98.,  99.,  90., 103.,  99.,  89.,  80.,  79.,   0.],\n",
       "        [ 92.,  90.,  94.,  87.,  83.,  93.,  90.,  86.,   0.],\n",
       "        [ 93.,  89., 102.,  91.,  84.,  92.,  86.,  84.,   0.],\n",
       "        [ 84.,  93.,  99.,  96.,  93.,  94.,  95.,  88.,   0.],\n",
       "        [  0.,   0.,   0.,   0.,   0.,   0.,   0.,   0.,   0.]],\n",
       "\n",
       "       [[ 71.,  72.,  73.,  71.,  72.,  71.,  79.,  78.,   0.],\n",
       "        [ 72.,  73.,  78.,  72.,  67.,  66.,  75.,  74.,   0.],\n",
       "        [ 75.,  77.,  80.,  76.,  68.,  65.,  66.,  70.,   0.],\n",
       "        [ 78.,  80.,  80.,  82.,  76.,  70.,  68.,  68.,   0.],\n",
       "        [ 78.,  81.,  77.,  82.,  81.,  77.,  72.,  72.,   0.],\n",
       "        [ 74.,  79.,  80.,  75.,  74.,  78.,  77.,  75.,   0.],\n",
       "        [ 77.,  78.,  82.,  77.,  74.,  75.,  74.,  74.,   0.],\n",
       "        [ 75.,  77.,  82.,  80.,  77.,  76.,  77.,  76.,   0.],\n",
       "        [  0.,   0.,   0.,   0.,   0.,   0.,   0.,   0.,   0.]],\n",
       "\n",
       "       [[155., 128., 134., 139., 147., 148., 156., 159.,   0.],\n",
       "        [162., 145., 150., 144., 121., 106., 124., 145.,   0.],\n",
       "        [161., 158., 160., 166., 130.,  93.,  94., 132.,   0.],\n",
       "        [166., 162., 171., 179., 159., 126., 127., 124.,   0.],\n",
       "        [180., 170., 167., 179., 170., 158., 154., 152.,   0.],\n",
       "        [175., 166., 167., 167., 161., 167., 163., 160.,   0.],\n",
       "        [171., 164., 172., 165., 163., 172., 166., 155.,   0.],\n",
       "        [152., 167., 173., 171., 166., 174., 179., 163.,   0.],\n",
       "        [  0.,   0.,   0.,   0.,   0.,   0.,   0.,   0.,   0.]]],\n",
       "      dtype=float32)"
      ]
     },
     "execution_count": 133,
     "metadata": {},
     "output_type": "execute_result"
    }
   ],
   "source": [
    "hackberry_514"
   ]
  },
  {
   "cell_type": "code",
   "execution_count": null,
   "id": "b53b54a4",
   "metadata": {},
   "outputs": [],
   "source": []
  }
 ],
 "metadata": {
  "kernelspec": {
   "display_name": "Python 3",
   "language": "python",
   "name": "python3"
  },
  "language_info": {
   "codemirror_mode": {
    "name": "ipython",
    "version": 3
   },
   "file_extension": ".py",
   "mimetype": "text/x-python",
   "name": "python",
   "nbconvert_exporter": "python",
   "pygments_lexer": "ipython3",
   "version": "3.8.8"
  }
 },
 "nbformat": 4,
 "nbformat_minor": 5
}
