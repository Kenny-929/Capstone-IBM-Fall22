{
 "cells": [
  {
   "cell_type": "code",
   "execution_count": 67,
   "id": "70519a05",
   "metadata": {},
   "outputs": [],
   "source": [
    "import IPython.display as display\n",
    "import matplotlib.pyplot as plt\n",
    "from tensorflow.keras import datasets, layers, models\n",
    "from glob import glob\n",
    "import pathlib\n",
    "import random\n",
    "import zipfile\n",
    "from sklearn.model_selection import train_test_split\n",
    "#from osgeo import gdal\n",
    "from matplotlib import pyplot\n",
    "import rasterio\n",
    "import numpy as np\n",
    "import tifftools\n",
    "from skimage.util import view_as_blocks\n",
    "from skimage.util.shape import view_as_windows\n",
    "from tifffile import imsave"
   ]
  },
  {
   "cell_type": "markdown",
   "id": "d8999b9e",
   "metadata": {},
   "source": [
    "# Open the tif file"
   ]
  },
  {
   "cell_type": "code",
   "execution_count": 68,
   "id": "3bbaf63d",
   "metadata": {},
   "outputs": [
    {
     "name": "stdout",
     "output_type": "stream",
     "text": [
      "(4, 10654, 15899)\n"
     ]
    }
   ],
   "source": [
    "combine_hackberry = rasterio.open('7_species_tif/combine_hackberry.tif')\n",
    "hackberry = combine_hackberry.read()\n",
    "print(hackberry.shape)"
   ]
  },
  {
   "cell_type": "code",
   "execution_count": 69,
   "id": "7b1c9599",
   "metadata": {},
   "outputs": [
    {
     "name": "stdout",
     "output_type": "stream",
     "text": [
      "(4, 10659, 15904)\n"
     ]
    }
   ],
   "source": [
    "#pad the array with zero so that height and width are multiples of 8\n",
    "hackberry = np.pad(hackberry, ((0,0),(0,5),(0,5)), 'constant')\n",
    "print(hackberry.shape)"
   ]
  },
  {
   "cell_type": "markdown",
   "id": "e3fa94af",
   "metadata": {},
   "source": [
    "# Check number of non-zero pixels "
   ]
  },
  {
   "cell_type": "code",
   "execution_count": 70,
   "id": "09c98917",
   "metadata": {},
   "outputs": [
    {
     "data": {
      "text/plain": [
       "372772"
      ]
     },
     "execution_count": 70,
     "metadata": {},
     "output_type": "execute_result"
    }
   ],
   "source": [
    "number_of_pixels = np.where(hackberry != 0)[0].shape[0]\n",
    "number_of_pixels"
   ]
  },
  {
   "cell_type": "markdown",
   "id": "97e1dc2a",
   "metadata": {},
   "source": [
    "# Use view_as_window to extract 8x8 patches"
   ]
  },
  {
   "cell_type": "code",
   "execution_count": 71,
   "id": "390591a5",
   "metadata": {},
   "outputs": [
    {
     "name": "stdout",
     "output_type": "stream",
     "text": [
      "The shape of red window is: (1332, 1988, 8, 8)\n",
      "The shape of green window is: (1332, 1988, 8, 8)\n",
      "The shape of blue window is: (1332, 1988, 8, 8)\n",
      "The shape of nir window is: (1332, 1988, 8, 8)\n"
     ]
    }
   ],
   "source": [
    "red = view_as_windows(hackberry[0,:,:], (8, 8),step=8)\n",
    "green = view_as_windows(hackberry[1,:,:], (8, 8),step=8)\n",
    "blue = view_as_windows(hackberry[2,:,:], (8, 8),step=8)\n",
    "nir = view_as_windows(hackberry[3,:,:], (8, 8),step=8)\n",
    "#view_as_windows(hackberry_r, (8, 8))\n",
    "print('The shape of red window is:', red.shape)\n",
    "print('The shape of green window is:', green.shape)\n",
    "print('The shape of blue window is:', blue.shape)\n",
    "print('The shape of nir window is:', nir.shape)"
   ]
  },
  {
   "cell_type": "code",
   "execution_count": 72,
   "id": "f401e050",
   "metadata": {},
   "outputs": [
    {
     "name": "stdout",
     "output_type": "stream",
     "text": [
      "The shape of red reshape window is: (2648016, 8, 8)\n",
      "The shape of green reshape window is: (2648016, 8, 8)\n",
      "The shape of blue reshape window is: (2648016, 8, 8)\n",
      "The shape of nir reshape window is: (2648016, 8, 8)\n"
     ]
    }
   ],
   "source": [
    "red_resh = np.reshape(red, red.shape[:0] + (-1,) + red.shape[2:])\n",
    "green_resh = np.reshape(green, green.shape[:0] + (-1,) + green.shape[2:])\n",
    "blue_resh = np.reshape(blue, blue.shape[:0] + (-1,) + blue.shape[2:])\n",
    "nir_resh = np.reshape(nir, nir.shape[:0] + (-1,) + nir.shape[2:])\n",
    "\n",
    "#Check shape after reshape\n",
    "print('The shape of red reshape window is:', red_resh.shape)\n",
    "print('The shape of green reshape window is:', green_resh.shape)\n",
    "print('The shape of blue reshape window is:', blue_resh.shape)\n",
    "print('The shape of nir reshape window is:', nir_resh.shape)"
   ]
  },
  {
   "cell_type": "code",
   "execution_count": 6,
   "id": "a24f79b5",
   "metadata": {},
   "outputs": [],
   "source": [
    "#delete all zero 8x8 windows\n",
    "#red_nz = red_resh[np.all(red_resh != 0, axis=(1, 2))]\n",
    "#green_nz = green_resh[np.all(green_resh != 0, axis=(1, 2))]\n",
    "#blue_nz = blue_resh[np.all(blue_resh != 0, axis=(1, 2))]\n",
    "#nir_nz = nir_resh[np.all(nir_resh != 0, axis=(1, 2))]\n",
    "\n",
    "#Check shape after deleting zeros\n",
    "#print('The shape of red window is:', red_nz.shape)\n",
    "#print('The shape of green window is:', green_nz.shape)\n",
    "#print('The shape of blue window is:', blue_nz.shape)\n",
    "#print('The shape of nir window is:', nir_nz.shape)"
   ]
  },
  {
   "cell_type": "code",
   "execution_count": 7,
   "id": "0a7acb6c",
   "metadata": {},
   "outputs": [],
   "source": [
    "#example of 8x8 window\n",
    "#print(red_nz[0])\n",
    "#print(red_nz[146])\n",
    "#print(red_nz[526])"
   ]
  },
  {
   "cell_type": "markdown",
   "id": "6b80510e",
   "metadata": {},
   "source": [
    "### This method removes any zeros in the array, but we want to keep non-zeros that are >20 pixels of the array"
   ]
  },
  {
   "cell_type": "code",
   "execution_count": 73,
   "id": "db9739b9",
   "metadata": {},
   "outputs": [
    {
     "name": "stdout",
     "output_type": "stream",
     "text": [
      "The shape of red window is: (1858, 8, 8)\n",
      "The shape of green window is: (1858, 8, 8)\n",
      "The shape of blue window is: (1858, 8, 8)\n",
      "The shape of nir window is: (1858, 8, 8)\n"
     ]
    }
   ],
   "source": [
    "#want non-zeros to be greater than 20\n",
    "red_20z = red_resh[np.count_nonzero(red_resh,axis=(1, 2)) >= 20]\n",
    "green_20z = green_resh[np.count_nonzero(green_resh,axis=(1, 2)) >= 20]\n",
    "blue_20z = blue_resh[np.count_nonzero(blue_resh,axis=(1, 2)) >= 20]\n",
    "nir_20z = nir_resh[np.count_nonzero(nir_resh,axis=(1, 2)) >= 20]\n",
    "\n",
    "#Check shape after threshold\n",
    "print('The shape of red window is:', red_20z.shape)\n",
    "print('The shape of green window is:', green_20z.shape)\n",
    "print('The shape of blue window is:', blue_20z.shape)\n",
    "print('The shape of nir window is:', nir_20z.shape)"
   ]
  },
  {
   "cell_type": "code",
   "execution_count": 75,
   "id": "188b51b4",
   "metadata": {},
   "outputs": [
    {
     "name": "stdout",
     "output_type": "stream",
     "text": [
      "[[ 0.  0.  0.  0. 46. 43. 41. 40.]\n",
      " [ 0.  0.  0.  0. 43. 40. 42. 44.]\n",
      " [ 0.  0.  0.  0. 46. 43. 45. 46.]\n",
      " [ 0.  0.  0.  0.  0. 45. 48. 42.]\n",
      " [ 0.  0.  0.  0.  0. 45. 46. 48.]\n",
      " [ 0.  0.  0.  0. 45. 48. 49. 43.]\n",
      " [ 0.  0.  0.  0.  0. 51. 50. 45.]\n",
      " [ 0.  0.  0.  0. 55. 58. 53. 44.]]\n",
      "[[86. 86. 82. 89. 81. 81. 77. 74.]\n",
      " [68. 74. 82. 91. 87. 83.  0.  0.]\n",
      " [55. 70. 88. 96. 88. 75. 68.  0.]\n",
      " [60.  0.  0. 91. 89. 81. 78. 75.]\n",
      " [76. 69.  0.  0.  0. 83. 83. 85.]\n",
      " [ 0.  0.  0.  0.  0. 91. 87. 85.]\n",
      " [ 0.  0.  0.  0.  0.  0.  0.  0.]\n",
      " [ 0.  0.  0.  0.  0.  0.  0.  0.]]\n",
      "[[68. 71. 68. 66. 64. 64.  0.  0.]\n",
      " [67. 68.  0.  0. 63. 64.  0.  0.]\n",
      " [65. 63. 63.  0.  0.  0.  0.  0.]\n",
      " [64. 63. 62. 64. 63.  0.  0.  0.]\n",
      " [67. 67. 63. 61. 61. 62. 62.  0.]\n",
      " [68. 68. 63. 61. 60.  0. 61. 62.]\n",
      " [67. 65. 63. 60. 59. 59. 59. 60.]\n",
      " [64. 63. 62. 60. 59. 59. 59. 59.]]\n"
     ]
    }
   ],
   "source": [
    "#example of 8x8 window\n",
    "print(red_20z[607])\n",
    "print(green_20z[235])\n",
    "print(blue_20z[537])"
   ]
  },
  {
   "cell_type": "markdown",
   "id": "e142a691",
   "metadata": {},
   "source": [
    "# Put RGBN together"
   ]
  },
  {
   "cell_type": "code",
   "execution_count": 76,
   "id": "4cfff73a",
   "metadata": {},
   "outputs": [
    {
     "name": "stdout",
     "output_type": "stream",
     "text": [
      "(4, 1858, 8, 8)\n"
     ]
    }
   ],
   "source": [
    "hackberry_stack = np.stack([red_20z, green_20z, blue_20z, nir_20z])\n",
    "print(hackberry_stack.shape)"
   ]
  },
  {
   "cell_type": "code",
   "execution_count": 77,
   "id": "9751ed34",
   "metadata": {},
   "outputs": [
    {
     "name": "stdout",
     "output_type": "stream",
     "text": [
      "The shape of hackberry window is: (1858, 4, 8, 8)\n"
     ]
    }
   ],
   "source": [
    "result=[]\n",
    "for i in range(hackberry_stack.shape[1]):\n",
    "    stack_4 = np.stack([red_20z[i], green_20z[i], blue_20z[i], nir_20z[i]])\n",
    "    result.append(stack_4)\n",
    "    \n",
    "hackberry_window = np.stack(result)\n",
    "print('The shape of hackberry window is:', hackberry_window.shape)"
   ]
  },
  {
   "cell_type": "code",
   "execution_count": 78,
   "id": "aa0cadca",
   "metadata": {},
   "outputs": [
    {
     "data": {
      "text/plain": [
       "array([[[  0.,   0.,   0.,   0.,   0.,   0.,   0.,   0.],\n",
       "        [  0.,   0.,   0.,   0.,   0.,   0.,   0.,   0.],\n",
       "        [  0.,   0.,   0.,   0.,  49.,  42.,  49.,   0.],\n",
       "        [  0.,   0.,   0.,  59.,  41.,  41.,  51.,  48.],\n",
       "        [  0.,   0.,  73.,  64.,  42.,  44.,  48.,  42.],\n",
       "        [  0.,  41.,   0.,   0.,  39.,  45.,  43.,  36.],\n",
       "        [  0.,  39.,  37.,  38.,  38.,  41.,  41.,  42.],\n",
       "        [ 38.,  41.,  41.,  42.,  44.,  41.,  41.,  48.]],\n",
       "\n",
       "       [[  0.,   0.,   0.,   0.,   0.,   0.,   0.,   0.],\n",
       "        [  0.,   0.,   0.,   0.,   0.,   0.,   0.,   0.],\n",
       "        [  0.,   0.,   0.,   0.,  52.,  50.,  61.,   0.],\n",
       "        [  0.,   0.,   0.,  61.,  46.,  49.,  65.,  63.],\n",
       "        [  0.,   0.,  81.,  62.,  48.,  50.,  59.,  54.],\n",
       "        [  0.,  49.,   0.,   0.,  43.,  52.,  52.,  45.],\n",
       "        [  0.,  45.,  45.,  43.,  44.,  50.,  51.,  53.],\n",
       "        [ 46.,  47.,  46.,  46.,  50.,  48.,  49.,  56.]],\n",
       "\n",
       "       [[  0.,   0.,   0.,   0.,   0.,   0.,   0.,   0.],\n",
       "        [  0.,   0.,   0.,   0.,   0.,   0.,   0.,   0.],\n",
       "        [  0.,   0.,   0.,   0.,  64.,  61.,  63.,   0.],\n",
       "        [  0.,   0.,   0.,  68.,  61.,  60.,  63.,  62.],\n",
       "        [  0.,   0.,  76.,  69.,  61.,  60.,  64.,  61.],\n",
       "        [  0.,  61.,   0.,   0.,  60.,  61.,  60.,  58.],\n",
       "        [  0.,  60.,  61.,  60.,  60.,  61.,  61.,  60.],\n",
       "        [ 60.,  62.,  61.,  61.,  61.,  61.,  61.,  64.]],\n",
       "\n",
       "       [[  0.,   0.,   0.,   0.,   0.,   0.,   0.,   0.],\n",
       "        [  0.,   0.,   0.,   0.,   0.,   0.,   0.,   0.],\n",
       "        [  0.,   0.,   0.,   0.,  83.,  72., 108.,   0.],\n",
       "        [  0.,   0.,   0., 107.,  59.,  70., 125., 134.],\n",
       "        [  0.,   0., 134.,  96.,  58.,  72., 116., 117.],\n",
       "        [  0.,  60.,   0.,   0.,  39.,  68.,  91.,  85.],\n",
       "        [  0.,  43.,  42.,  36.,  49.,  82., 101., 113.],\n",
       "        [ 51.,  47.,  46.,  49.,  80.,  85.,  94., 127.]]], dtype=float32)"
      ]
     },
     "execution_count": 78,
     "metadata": {},
     "output_type": "execute_result"
    }
   ],
   "source": [
    "hackberry_window[0]"
   ]
  },
  {
   "cell_type": "code",
   "execution_count": 141,
   "id": "994f0610",
   "metadata": {},
   "outputs": [],
   "source": [
    "#imsave('test.tif', hackberry_window[0,:,:,:])"
   ]
  },
  {
   "cell_type": "code",
   "execution_count": 142,
   "id": "d9886e44",
   "metadata": {},
   "outputs": [],
   "source": [
    "#imsave('test.tif', hackberry_window[:,:,:,:])"
   ]
  },
  {
   "cell_type": "code",
   "execution_count": 31,
   "id": "714dcba7",
   "metadata": {},
   "outputs": [],
   "source": [
    "for i in range(hackberry_window.shape[0]):\n",
    "    name = 'hackberry/hackberry_' + str(i) + '.tif'\n",
    "    imsave(name, hackberry_window[i,:,:,:])"
   ]
  },
  {
   "cell_type": "code",
   "execution_count": 32,
   "id": "6820b31e",
   "metadata": {},
   "outputs": [
    {
     "data": {
      "text/plain": [
       "<matplotlib.image.AxesImage at 0x7f84ced7ee20>"
      ]
     },
     "execution_count": 32,
     "metadata": {},
     "output_type": "execute_result"
    },
    {
     "data": {
      "image/png": "[encoded data removed]",
      "text/plain": [
       "<Figure size 432x288 with 1 Axes>"
      ]
     },
     "metadata": {
      "needs_background": "light"
     },
     "output_type": "display_data"
    }
   ],
   "source": [
    "pyplot.imshow(rasterio.open('hackberry/hackberry_89.tif').read(1), cmap='pink')"
   ]
  },
  {
   "cell_type": "code",
   "execution_count": 33,
   "id": "40ac643c",
   "metadata": {},
   "outputs": [
    {
     "data": {
      "text/plain": [
       "4"
      ]
     },
     "execution_count": 33,
     "metadata": {},
     "output_type": "execute_result"
    }
   ],
   "source": [
    "rasterio.open('hackberry/hackberry_89.tif').count"
   ]
  },
  {
   "cell_type": "markdown",
   "id": "bb68bcc4",
   "metadata": {},
   "source": [
    "# Use view_as_windows with 4 bands"
   ]
  },
  {
   "cell_type": "code",
   "execution_count": 79,
   "id": "f81963bd",
   "metadata": {},
   "outputs": [
    {
     "name": "stdout",
     "output_type": "stream",
     "text": [
      "(1, 1332, 1988, 4, 8, 8)\n"
     ]
    }
   ],
   "source": [
    "hack_wind = view_as_windows(hackberry, (4, 8, 8), step=8)\n",
    "print(hack_wind.shape)"
   ]
  },
  {
   "cell_type": "code",
   "execution_count": 35,
   "id": "b2abbb9d",
   "metadata": {},
   "outputs": [
    {
     "name": "stdout",
     "output_type": "stream",
     "text": [
      "(2648016, 4, 8, 8)\n"
     ]
    }
   ],
   "source": [
    "#Combine axes\n",
    "hack_wind_resh = hack_wind.reshape(-1, 4, 8, 8)\n",
    "print(hack_wind_resh.shape)"
   ]
  },
  {
   "cell_type": "code",
   "execution_count": 65,
   "id": "01f99aa9",
   "metadata": {},
   "outputs": [
    {
     "name": "stdout",
     "output_type": "stream",
     "text": [
      "The shape of hackberry window after threshold of zero is: (1858, 4, 8, 8)\n"
     ]
    }
   ],
   "source": [
    "#threshold the windows (nonzero >= 20)\n",
    "num_samples = hack_wind_resh.shape[0]\n",
    "hack_wind_20z = hack_wind_resh[[any([np.count_nonzero(patch) >= 20 for patch in hack_wind_resh[i]]) for i in range(0, num_samples)]]\n",
    "print('The shape of hackberry window after threshold of zero is:', hack_wind_20z.shape)"
   ]
  },
  {
   "cell_type": "code",
   "execution_count": 66,
   "id": "dd2cb399",
   "metadata": {},
   "outputs": [
    {
     "name": "stdout",
     "output_type": "stream",
     "text": [
      "[[[  0.   0.   0.   0.   0.   0.   0.   0.]\n",
      "  [  0.   0.   0.   0.   0.   0.   0.   0.]\n",
      "  [  0.   0.   0.   0.  49.  42.  49.   0.]\n",
      "  [  0.   0.   0.  59.  41.  41.  51.  48.]\n",
      "  [  0.   0.  73.  64.  42.  44.  48.  42.]\n",
      "  [  0.  41.   0.   0.  39.  45.  43.  36.]\n",
      "  [  0.  39.  37.  38.  38.  41.  41.  42.]\n",
      "  [ 38.  41.  41.  42.  44.  41.  41.  48.]]\n",
      "\n",
      " [[  0.   0.   0.   0.   0.   0.   0.   0.]\n",
      "  [  0.   0.   0.   0.   0.   0.   0.   0.]\n",
      "  [  0.   0.   0.   0.  52.  50.  61.   0.]\n",
      "  [  0.   0.   0.  61.  46.  49.  65.  63.]\n",
      "  [  0.   0.  81.  62.  48.  50.  59.  54.]\n",
      "  [  0.  49.   0.   0.  43.  52.  52.  45.]\n",
      "  [  0.  45.  45.  43.  44.  50.  51.  53.]\n",
      "  [ 46.  47.  46.  46.  50.  48.  49.  56.]]\n",
      "\n",
      " [[  0.   0.   0.   0.   0.   0.   0.   0.]\n",
      "  [  0.   0.   0.   0.   0.   0.   0.   0.]\n",
      "  [  0.   0.   0.   0.  64.  61.  63.   0.]\n",
      "  [  0.   0.   0.  68.  61.  60.  63.  62.]\n",
      "  [  0.   0.  76.  69.  61.  60.  64.  61.]\n",
      "  [  0.  61.   0.   0.  60.  61.  60.  58.]\n",
      "  [  0.  60.  61.  60.  60.  61.  61.  60.]\n",
      "  [ 60.  62.  61.  61.  61.  61.  61.  64.]]\n",
      "\n",
      " [[  0.   0.   0.   0.   0.   0.   0.   0.]\n",
      "  [  0.   0.   0.   0.   0.   0.   0.   0.]\n",
      "  [  0.   0.   0.   0.  83.  72. 108.   0.]\n",
      "  [  0.   0.   0. 107.  59.  70. 125. 134.]\n",
      "  [  0.   0. 134.  96.  58.  72. 116. 117.]\n",
      "  [  0.  60.   0.   0.  39.  68.  91.  85.]\n",
      "  [  0.  43.  42.  36.  49.  82. 101. 113.]\n",
      "  [ 51.  47.  46.  49.  80.  85.  94. 127.]]]\n"
     ]
    }
   ],
   "source": [
    "#example of hackberry window\n",
    "print(hack_wind_20z[0])"
   ]
  },
  {
   "cell_type": "code",
   "execution_count": null,
   "id": "7f1ad02a",
   "metadata": {},
   "outputs": [],
   "source": []
  }
 ],
 "metadata": {
  "kernelspec": {
   "display_name": "Python 3",
   "language": "python",
   "name": "python3"
  },
  "language_info": {
   "codemirror_mode": {
    "name": "ipython",
    "version": 3
   },
   "file_extension": ".py",
   "mimetype": "text/x-python",
   "name": "python",
   "nbconvert_exporter": "python",
   "pygments_lexer": "ipython3",
   "version": "3.8.8"
  }
 },
 "nbformat": 4,
 "nbformat_minor": 5
}
